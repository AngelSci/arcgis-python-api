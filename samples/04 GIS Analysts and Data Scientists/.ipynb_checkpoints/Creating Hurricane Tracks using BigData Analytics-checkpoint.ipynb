{
 "cells": [
  {
   "cell_type": "markdown",
   "metadata": {},
   "source": [
    "# Creating hurricane tracks using bigdata analytics\n",
    "\n",
    "The sample code below uses big data analytics (geoanalytics) to reconstruct hurricane tracks using data registered on a bigdata fileshare datastore in the GIS. Note that this functionality is not available yet with ArcGIS Online and is currently in Beta for ArcGIS Portal 10.5 "
   ]
  },
  {
   "cell_type": "code",
   "execution_count": 1,
   "metadata": {},
   "outputs": [
    {
     "name": "stderr",
     "output_type": "stream",
     "text": [
      ":0: FutureWarning: IPython widgets are experimental and may change in the future.\n"
     ]
    }
   ],
   "source": [
    "from arcgis.gis import GIS\n",
    "from arcgis.viz import MapView\n",
    "from arcgis.tools import GeoAnalyticsTools\n",
    "\n",
    "gis = GIS(\"https://dev06999.esri.com/portal/\", \"admin\", \"changeit\")\n",
    "gae = GeoAnalyticsTools('https://dev06999.esri.com/server/rest/services/GeoAnalyticsTools/GPServer', gis)"
   ]
  },
  {
   "cell_type": "code",
   "execution_count": 2,
   "metadata": {
    "scrolled": true
   },
   "outputs": [
    {
     "name": "stdout",
     "output_type": "stream",
     "text": [
      "Submitted.\n",
      "Executing...\n",
      "Executing (Reconstruct Tracks): ReconstructTracks /server/datastores/bigDataFileShares/gae6/hurricanes # serial_num GEODESIC # # # # # #\n",
      "Start Time: Sun Jun 05 06:50:15 2016\n",
      "Using GPString param: /server/datastores/bigDataFileShares/gae6/hurricanes\n",
      "valid coordinate range : Envelope: [-400.0, -400.0, 9006799.25474099, 9006799.25474099]\n",
      "Writing to managed relational datastore (table=ReconstructTracks_jbc105e52db67406387fd50afe7a995b8)\n",
      " * interval=1848-01-11 06:00:00.000 -> 1899-12-26 06:00:00.000\n",
      " * count=568\n",
      "Created feature service for result: http://Dev06999.esri.com/server/rest/services/Hosted/ReconstructTracks_jbc105e52db67406387fd50afe7a995b8/FeatureServer\n",
      "Succeeded at Sun Jun 05 06:50:36 2016 (Elapsed Time: 21.19 seconds)\n",
      "{'out_features': {'url': 'http://Dev06999.esri.com/server/rest/services/Hosted/ReconstructTracks_jbc105e52db67406387fd50afe7a995b8/FeatureServer/0'}}\n",
      "FL URL: http://Dev06999.esri.com/server/rest/services/Hosted/ReconstructTracks_jbc105e52db67406387fd50afe7a995b8/FeatureServer/0\n",
      "FS URL: http://Dev06999.esri.com/server/rest/services/Hosted/ReconstructTracks_jbc105e52db67406387fd50afe7a995b8/FeatureServer\n"
     ]
    },
    {
     "name": "stderr",
     "output_type": "stream",
     "text": [
      "Possible issues were found while reading 'in_features'\n",
      " * Some records have no time values or the time values were unable to be parsed\n",
      "      > [null,[1962272N10161,1962,32,WP,MM,EMMA:FREDA,9/28/1962 12:00,TS,9.5,161.0,0.0,1008,tokyo,-100.0,1.524,main,0,0],null,{\"x\":161,\"y\":9.5}]\n",
      "      > [null,[1962272N10161,1962,32,WP,MM,EMMA:FREDA,9/28/1962 18:00,TS,9.6,160.5,0.0,1006,tokyo,-100.0,4.407,main,0,0],null,{\"x\":160.5,\"y\":9.6}]\n",
      "      > [null,[1962272N10161,1962,32,WP,MM,EMMA:FREDA,9/29/1962 0:00,TS,10.0,160.0,0.0,1008,tokyo,-100.0,1.524,main,0,0],null,{\"x\":160,\"y\":10}]\n"
     ]
    }
   ],
   "source": [
    "tracks = gae.reconstruct_tracks(\"/server/datastores/bigDataFileShares/gae6/hurricanes\", None,\n",
    "                                \"serial_num\", \"GEODESIC\", None, None)"
   ]
  },
  {
   "cell_type": "code",
   "execution_count": 3,
   "metadata": {},
   "outputs": [],
   "source": [
    "map = MapView()\n",
    "map"
   ]
  },
  {
   "cell_type": "code",
   "execution_count": 4,
   "metadata": {
    "collapsed": true
   },
   "outputs": [],
   "source": [
    "map.zoom = 2"
   ]
  },
  {
   "cell_type": "code",
   "execution_count": 5,
   "metadata": {
    "collapsed": true
   },
   "outputs": [],
   "source": [
    "map.add_layer(tracks)"
   ]
  },
  {
   "cell_type": "code",
   "execution_count": 6,
   "metadata": {
    "collapsed": true
   },
   "outputs": [],
   "source": [
    "map.set_time_extent('1/1/1887 UTC', '1/1/1888 UTC')"
   ]
  }
 ],
 "metadata": {
  "kernelspec": {
   "display_name": "Python 3",
   "language": "python",
   "name": "python3"
  },
  "language_info": {
   "codemirror_mode": {
    "name": "ipython",
    "version": 3
   },
   "file_extension": ".py",
   "mimetype": "text/x-python",
   "name": "python",
   "nbconvert_exporter": "python",
   "pygments_lexer": "ipython3",
   "version": "3.6.1"
  },
  "widgets": {
   "state": {},
   "version": "1.1.2"
  }
 },
 "nbformat": 4,
 "nbformat_minor": 1
}
