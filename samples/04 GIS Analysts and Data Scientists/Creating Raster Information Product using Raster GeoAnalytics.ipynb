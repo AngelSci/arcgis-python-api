{
 "cells": [
  {
   "cell_type": "markdown",
   "metadata": {},
   "source": [
    "# Creating Raster Information Product using Raster GeoAnalytics\n",
    "\n",
    "This notebook shows how image services can be used."
   ]
  },
  {
   "cell_type": "code",
   "execution_count": 1,
   "metadata": {
    "collapsed": false
   },
   "outputs": [],
   "source": [
    "from arcgis.gis import GIS\n",
    "from arcgis.lyr import ImageLayer\n",
    "from IPython.display import display\n",
    "\n",
    "gis = GIS()"
   ]
  },
  {
   "cell_type": "markdown",
   "metadata": {},
   "source": [
    "Here we're searchcing for multispectral landsat imagery layer:"
   ]
  },
  {
   "cell_type": "code",
   "execution_count": 2,
   "metadata": {
    "collapsed": false
   },
   "outputs": [],
   "source": [
    "items = gis.content.search(\"Landsat 8 Views\", max_items=2)"
   ]
  },
  {
   "cell_type": "code",
   "execution_count": 3,
   "metadata": {
    "collapsed": false,
    "scrolled": true
   },
   "outputs": [
    {
     "data": {
      "text/html": [
       "<div class=\"item_container\" style=\"height: auto; overflow: hidden; border: 1px solid #cfcfcf; border-radius: 2px; background: #f6fafa; line-height: 1.21429em; padding: 10px;\">\n",
       "                    <div class=\"item_left\" style=\"width: 210px; float: left;\">\n",
       "                       <a href='http://www.arcgis.com/home/item.html?id=a5fef63517cd4a099b437e55713d3d54' target='_blank'>\n",
       "                        <img src='http://www.arcgis.com/sharing/rest/content/items/a5fef63517cd4a099b437e55713d3d54/info/thumbnail/Imagery.png' class=\"itemThumbnail\">\n",
       "                       </a>\n",
       "                    </div>\n",
       "        \n",
       "                    <div class=\"item_right\"     style=\"float: none; width: auto; overflow: hidden;\">\n",
       "                        <a href='http://www.arcgis.com/home/item.html?id=a5fef63517cd4a099b437e55713d3d54' target='_blank'><b>Imagery</b>\n",
       "                        </a>\n",
       "                        <br>This LYR file combines the World Imagery map service and World Transportation and World Boundaries and Places reference overlay services in one convenient group layer<img src='http://www.arcgis.com/home/js/jsapi/esri/css/images/item_type_icons/layers16.png' style=\"vertical-align:middle;\">Layer by esri\n",
       "                        <br>Last Modified: January 16, 2012\n",
       "                        <br>2 comments, 338,956 views\n",
       "                    </div>\n",
       "                </div>\n",
       "                "
      ],
      "text/plain": [
       "<Item title:\"Imagery\" type:Layer owner:esri>"
      ]
     },
     "metadata": {},
     "output_type": "display_data"
    },
    {
     "data": {
      "text/html": [
       "<div class=\"item_container\" style=\"height: auto; overflow: hidden; border: 1px solid #cfcfcf; border-radius: 2px; background: #f6fafa; line-height: 1.21429em; padding: 10px;\">\n",
       "                    <div class=\"item_left\" style=\"width: 210px; float: left;\">\n",
       "                       <a href='http://www.arcgis.com/home/item.html?id=4ca13f0e4e29403fa68c46d188c4be73' target='_blank'>\n",
       "                        <img src='http://www.arcgis.com/sharing/rest/content/items/4ca13f0e4e29403fa68c46d188c4be73/info/thumbnail/ago_downloaded.jpg' class=\"itemThumbnail\">\n",
       "                       </a>\n",
       "                    </div>\n",
       "        \n",
       "                    <div class=\"item_right\"     style=\"float: none; width: auto; overflow: hidden;\">\n",
       "                        <a href='http://www.arcgis.com/home/item.html?id=4ca13f0e4e29403fa68c46d188c4be73' target='_blank'><b>Landsat 8 Views</b>\n",
       "                        </a>\n",
       "                        <br>Landsat 8 OLI, 30m Multispectral 8 band scenes with visual renderings and indices. Updated daily.<img src='http://www.arcgis.com/home/js/jsapi/esri/css/images/item_type_icons/imagery16.png' style=\"vertical-align:middle;\">Image Service by esri\n",
       "                        <br>Last Modified: October 22, 2015\n",
       "                        <br>0 comments, 106,506 views\n",
       "                    </div>\n",
       "                </div>\n",
       "                "
      ],
      "text/plain": [
       "<Item title:\"Landsat 8 Views\" type:Image Service owner:esri>"
      ]
     },
     "metadata": {},
     "output_type": "display_data"
    }
   ],
   "source": [
    "for item in items:\n",
    "    display(item)"
   ]
  },
  {
   "cell_type": "code",
   "execution_count": 4,
   "metadata": {
    "collapsed": false
   },
   "outputs": [],
   "source": [
    "landsat = items[1]"
   ]
  },
  {
   "cell_type": "code",
   "execution_count": 5,
   "metadata": {
    "collapsed": false
   },
   "outputs": [],
   "source": [
    "imglyr = ImageLayer(landsat)"
   ]
  },
  {
   "cell_type": "markdown",
   "metadata": {},
   "source": [
    "This layer has been published with several Raster Functions, that the code below is cycling through, and listing out:"
   ]
  },
  {
   "cell_type": "code",
   "execution_count": 6,
   "metadata": {
    "collapsed": false
   },
   "outputs": [
    {
     "name": "stdout",
     "output_type": "stream",
     "text": [
      "Agriculture with DRA\n",
      "Bathymetric with DRA\n",
      "Color Infrared with DRA\n",
      "Natural Color with DRA\n",
      "Short-wave Infrared with DRA\n",
      "Geology with DRA\n",
      "Agriculture\n",
      "Bathymetric\n",
      "Color Infrared\n",
      "Geology\n",
      "Natural Color\n",
      "Short-wave Infrared\n",
      "NDVI Colorized\n",
      "Normalized Difference Moisture Index Colorized\n",
      "NDVI Raw\n",
      "NBR Raw\n",
      "None\n"
     ]
    }
   ],
   "source": [
    "for fn in imglyr['rasterFunctionInfos']:\n",
    "    print(fn['name'])"
   ]
  },
  {
   "cell_type": "code",
   "execution_count": 7,
   "metadata": {
    "collapsed": false
   },
   "outputs": [
    {
     "name": "stderr",
     "output_type": "stream",
     "text": [
      ":0: FutureWarning: IPython widgets are experimental and may change in the future.\n"
     ]
    }
   ],
   "source": [
    "map = gis.map(\"Pallikaranai\", 13)"
   ]
  },
  {
   "cell_type": "code",
   "execution_count": 8,
   "metadata": {
    "collapsed": false
   },
   "outputs": [],
   "source": [
    "map"
   ]
  },
  {
   "cell_type": "code",
   "execution_count": 9,
   "metadata": {
    "collapsed": true
   },
   "outputs": [],
   "source": [
    "map.add_layer(imglyr)"
   ]
  },
  {
   "cell_type": "markdown",
   "metadata": {},
   "source": [
    "The utility of raster functions is better seen when we interactively cycle through these raster functions and apply them to the map, like the code below does. This is using on-the-fly image processing at display resolution to cycle through the various raster functions, and showing how the layer can be visualized using these different raster functions published with the layer."
   ]
  },
  {
   "cell_type": "code",
   "execution_count": 10,
   "metadata": {
    "collapsed": false
   },
   "outputs": [
    {
     "name": "stdout",
     "output_type": "stream",
     "text": [
      "Agriculture with DRA\n",
      "Bathymetric with DRA\n",
      "Color Infrared with DRA\n",
      "Natural Color with DRA\n",
      "Short-wave Infrared with DRA\n",
      "Geology with DRA\n"
     ]
    }
   ],
   "source": [
    "import time\n",
    "\n",
    "for fn in imglyr['rasterFunctionInfos'][:6]:\n",
    "    print(fn['name'])\n",
    "    map.remove_layers()\n",
    "    map.add_layer(imglyr, {\"imageServiceParameters\" :{ \"renderingRule\": { \"rasterFunction\": fn['name']}}})\n",
    "    time.sleep(2)\n",
    "    "
   ]
  },
  {
   "cell_type": "code",
   "execution_count": 11,
   "metadata": {
    "collapsed": true
   },
   "outputs": [],
   "source": [
    "map = gis.map(\"Pallikaranai\", 13)\n",
    "map"
   ]
  },
  {
   "cell_type": "markdown",
   "metadata": {},
   "source": [
    "Developers can create their own raster functions, by chaining different raster functions. For instance, the code below is doing an Extract Band and extracting out the [4,5,3] band combination, and applying a Stretch to get the land-water boundary visualization that makes it easy to see where land is and where water is:"
   ]
  },
  {
   "cell_type": "code",
   "execution_count": 12,
   "metadata": {
    "collapsed": false
   },
   "outputs": [],
   "source": [
    "raster_fn = {\n",
    "               \"rasterFunction\": \"Stretch\",\n",
    "               \"rasterFunctionArguments\":{\n",
    "                    \"Raster\":{\n",
    "                        \"rasterFunction\": \"ExtractBand\",\n",
    "                        \"rasterFunctionArguments\":{\"BandIds\": [4,5,3]}\n",
    "                    },\n",
    "                    \"StretchType\": 6,\n",
    "                    \"DRA\": True,\n",
    "                    \"Gamma\": [1,1,1],\n",
    "                    \"UseGamma\": True\n",
    "                },\n",
    "               \"outputPixelType\":\"U8\"\n",
    "              }"
   ]
  },
  {
   "cell_type": "code",
   "execution_count": 13,
   "metadata": {
    "collapsed": false
   },
   "outputs": [],
   "source": [
    "map.add_layer(landsat, {\"imageServiceParameters\" :{ \"renderingRule\": raster_fn }})"
   ]
  },
  {
   "cell_type": "markdown",
   "metadata": {
    "collapsed": true
   },
   "source": [
    "# Creating a Raster Information Product using Landsat 8 imagery"
   ]
  },
  {
   "cell_type": "markdown",
   "metadata": {},
   "source": [
    "This part of the notebook shows how Raster GeoAnalytics (in ArcGIS Portal 10.5 Beta) can be used to generate a raster information product, by applying the same raster function across the extent of an image service on my Portal, at source resolution, and this can create an Information Product, that can be used for further analysis and visualization."
   ]
  },
  {
   "cell_type": "code",
   "execution_count": 26,
   "metadata": {
    "collapsed": true
   },
   "outputs": [],
   "source": [
    "portal = GIS(\"https://dev06999.esri.com/portal\", \"admin\", \"changeit\")"
   ]
  },
  {
   "cell_type": "code",
   "execution_count": 27,
   "metadata": {
    "collapsed": false
   },
   "outputs": [],
   "source": [
    "chennai_ls = portal.content.search(\"ChennaiMultispectralLandsat\")[0]"
   ]
  },
  {
   "cell_type": "code",
   "execution_count": 28,
   "metadata": {
    "collapsed": false
   },
   "outputs": [],
   "source": [
    "map = portal.map(\"Pallikaranai, Tamil Nadu, India\", 13)\n",
    "map"
   ]
  },
  {
   "cell_type": "code",
   "execution_count": 29,
   "metadata": {
    "collapsed": false
   },
   "outputs": [
    {
     "name": "stdout",
     "output_type": "stream",
     "text": [
      "https://Dev06999.esri.com/server/rest/services/ChennaiMultispectralLandsat/ImageServer\n"
     ]
    }
   ],
   "source": [
    "map.add_layer(chennai_ls)"
   ]
  },
  {
   "cell_type": "code",
   "execution_count": 30,
   "metadata": {
    "collapsed": false
   },
   "outputs": [
    {
     "name": "stdout",
     "output_type": "stream",
     "text": [
      "Submitted.\n",
      "Executing...\n",
      "Executing (GenerateRaster): GenerateRaster {\"rasterFunctionArguments\":{\"Raster\":{\"rasterFunctionArguments\":{\"BandIds\":[4,5,3]},\"rasterFunction\":\"ExtractBand\"},\"Gamma\":[1,1,1],\"StretchType\":6,\"DRA\":true,\"UseGamma\":true},\"outputPixelType\":\"U8\",\"rasterFunction\":\"Stretch\"} {\"itemId\":\"3017b6bf0a824185928ebd80c53617d8\"} {\"Raster\":{\"itemId\":\"2156e1ce07ea40da8a24d36271e03c3d\"}} # # #\n",
      "Start Time: Tue Dec 15 06:10:55 2015\n",
      "Running script GenerateRaster...\n",
      "Output item id is: 3017b6bf0a824185928ebd80c53617d8\n",
      "Output image service url is: https://Dev06999.esri.com:6443/arcgis/rest/services/Hosted/LandsatWaterBoundary3/ImageServer\n",
      "Output image service admin url is: https://Dev06999.esri.com:6443/arcgis/admin/services/Hosted/LandsatWaterBoundary3.ImageServer\n",
      "Output cloud raster name is: id_3017b6bf0a824185928ebd80c53617d8\n",
      "Raster https://Dev06999.esri.com:6443/arcgis/rest/services/ChennaiMultispectralLandsat/ImageServer\n",
      "\n",
      "Using input raster dataset's spatial reference.\n",
      "Data store URI: \\\\dev06999\\bigdata\\data\\id_3017b6bf0a824185928ebd80c53617d8\n",
      "Updating service: https://Dev06999.esri.com:6443/arcgis/admin/services/Hosted/LandsatWaterBoundary3.ImageServer/edit\n",
      "Starting service: https://Dev06999.esri.com:6443/arcgis/admin/services/Hosted/LandsatWaterBoundary3.ImageServer/start\n",
      "Succeeded at Tue Dec 15 06:12:14 2015 (Elapsed Time: 1 minutes 18 seconds)\n",
      "{'outRaster': {'itemId': '3017b6bf0a824185928ebd80c53617d8'}}\n"
     ]
    }
   ],
   "source": [
    "product = portal.rasters.generate(raster_fn, \"LandsatWaterBoundary3\", chennai_ls)"
   ]
  },
  {
   "cell_type": "code",
   "execution_count": 31,
   "metadata": {
    "collapsed": false
   },
   "outputs": [
    {
     "data": {
      "text/html": [
       "<div class=\"item_container\">\n",
       "                    <div class=\"item_left\">\n",
       "                       <a href='https://dev06999.esri.com/portal/home/item.html?id=3017b6bf0a824185928ebd80c53617d8' target='_blank'>\n",
       "                        <img src='http://static.arcgis.com/images/desktopapp.png' class=\"itemThumbnail\">\n",
       "                       </a>\n",
       "                    </div>\n",
       "        \n",
       "                    <div class=\"item_right\">\n",
       "                        <a href='https://dev06999.esri.com/portal/home/item.html?id=3017b6bf0a824185928ebd80c53617d8' target='_blank'><b>LandsatWaterBoundary3</b>\n",
       "                        </a>\n",
       "                        <br><img src='http://www.arcgis.com/home/js/jsapi/esri/css/images/item_type_icons/imagery16.png' style=\"vertical-align:middle;\">Image Service by admin\n",
       "                        <br>Last Modified: December 15, 2015\n",
       "                        <br>0 comments, 0 views\n",
       "                    </div>\n",
       "                </div>\n",
       "                "
      ],
      "text/plain": [
       "{}"
      ]
     },
     "execution_count": 31,
     "metadata": {},
     "output_type": "execute_result"
    }
   ],
   "source": [
    "product"
   ]
  },
  {
   "cell_type": "code",
   "execution_count": 32,
   "metadata": {
    "collapsed": false
   },
   "outputs": [
    {
     "name": "stdout",
     "output_type": "stream",
     "text": [
      "http://Dev06999.esri.com/server/rest/services/Hosted/LandsatWaterBoundary3/ImageServer\n"
     ]
    }
   ],
   "source": [
    "map.add_layer(product)"
   ]
  }
 ],
 "metadata": {
  "kernelspec": {
   "display_name": "Python 3",
   "language": "python",
   "name": "python3"
  },
  "language_info": {
   "codemirror_mode": {
    "name": "ipython",
    "version": 3
   },
   "file_extension": ".py",
   "mimetype": "text/x-python",
   "name": "python",
   "nbconvert_exporter": "python",
   "pygments_lexer": "ipython3",
   "version": "3.5.1"
  },
  "widgets": {
   "state": {},
   "version": "1.1.2"
  }
 },
 "nbformat": 4,
 "nbformat_minor": 0
}
