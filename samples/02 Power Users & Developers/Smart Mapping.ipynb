{
 "cells": [
  {
   "cell_type": "markdown",
   "metadata": {},
   "source": [
    "# Using Classes Color Renderer\n",
    "\n",
    "The example below shows how a Classes Color Renderer can be used to visualize the population of the different counties in the state of Washington. It also shows how a definition expression can be used to limit the features displayed from the layer, and how the layer opacity can be specified:"
   ]
  },
  {
   "cell_type": "code",
   "execution_count": 1,
   "metadata": {
    "collapsed": false
   },
   "outputs": [],
   "source": [
    "from arcgis.gis import GIS\n",
    "\n",
    "gis = GIS()\n",
    "map = gis.map('Seattle, WA', 6)"
   ]
  },
  {
   "cell_type": "code",
   "execution_count": 2,
   "metadata": {
    "collapsed": true
   },
   "outputs": [],
   "source": [
    "map"
   ]
  },
  {
   "cell_type": "code",
   "execution_count": 3,
   "metadata": {
    "collapsed": false
   },
   "outputs": [],
   "source": [
    "map.add_layer({\"type\":\"FeatureLayer\", \n",
    "               \"url\":\"//sampleserver6.arcgisonline.com/arcgis/rest/services/Census/MapServer/2\",\n",
    "               \"definition_expression\" : \"STATE_NAME='Washington'\",\n",
    "               \"renderer\":\"ClassedColorRenderer\",\n",
    "               \"field_name\":\"POP2007\",\n",
    "               \"opacity\":0.75\n",
    "              })"
   ]
  },
  {
   "cell_type": "markdown",
   "metadata": {},
   "source": [
    "# Using Heatmap Renderer\n",
    "\n",
    "The example below visualizes earthquake of magnitude greather than four between 1963 qnd 2013 in Southern California, using a Heatmap renderer:"
   ]
  },
  {
   "cell_type": "code",
   "execution_count": 4,
   "metadata": {
    "collapsed": true
   },
   "outputs": [],
   "source": [
    "map2 = gis.map('Los Angeles', 8)"
   ]
  },
  {
   "cell_type": "code",
   "execution_count": 5,
   "metadata": {
    "collapsed": true
   },
   "outputs": [],
   "source": [
    "map2"
   ]
  },
  {
   "cell_type": "code",
   "execution_count": 6,
   "metadata": {
    "collapsed": true
   },
   "outputs": [],
   "source": [
    "map2.add_layer({\"type\":\"FeatureLayer\",\n",
    "               \"url\":\"http://services1.arcgis.com/hLJbHVT9ZrDIzK0I/arcgis/rest/services/EQMagGt4/FeatureServer/0\",\n",
    "               \"renderer\":\"HeatmapRenderer\",\n",
    "               \"opacity\":0.75})"
   ]
  }
 ],
 "metadata": {
  "kernelspec": {
   "display_name": "Python 3",
   "language": "python",
   "name": "python3"
  },
  "language_info": {
   "codemirror_mode": {
    "name": "ipython",
    "version": 3
   },
   "file_extension": ".py",
   "mimetype": "text/x-python",
   "name": "python",
   "nbconvert_exporter": "python",
   "pygments_lexer": "ipython3",
   "version": "3.5.1"
  },
  "widgets": {
   "state": {
    "2ca400326a544772a660b9fc8d63e937": {
     "views": []
    },
    "a41d33b12c9f44d8af5ebbb487e42cfa": {
     "views": []
    }
   },
   "version": "1.1.2"
  }
 },
 "nbformat": 4,
 "nbformat_minor": 0
}
